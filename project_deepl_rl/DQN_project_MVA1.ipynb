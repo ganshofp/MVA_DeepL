{
 "cells": [
  {
   "cell_type": "markdown",
   "metadata": {
    "colab_type": "text",
    "id": "qwOKnuEfqyZs"
   },
   "source": [
    "**You may need to install [OpenCV](https://pypi.python.org/pypi/opencv-python) and [scikit-video](http://www.scikit-video.org/stable/).**"
   ]
  },
  {
   "cell_type": "code",
   "execution_count": 20,
   "metadata": {
    "colab": {
     "base_uri": "https://localhost:8080/",
     "height": 68
    },
    "colab_type": "code",
    "id": "cIxxjYpdELrC",
    "outputId": "8236a744-6a19-4f1f-db9a-83f4dee0d4e3"
   },
   "outputs": [
    {
     "name": "stdout",
     "output_type": "stream",
     "text": [
      "Requirement already satisfied: sk-video in /usr/local/lib/python3.6/dist-packages (1.1.10)\n",
      "Requirement already satisfied: scipy in /usr/local/lib/python3.6/dist-packages (from sk-video) (1.4.1)\n",
      "Requirement already satisfied: numpy in /usr/local/lib/python3.6/dist-packages (from sk-video) (1.17.5)\n"
     ]
    }
   ],
   "source": [
    "!pip install sk-video"
   ]
  },
  {
   "cell_type": "code",
   "execution_count": 0,
   "metadata": {
    "colab": {},
    "colab_type": "code",
    "id": "TmvqfyzQqyZv"
   },
   "outputs": [],
   "source": [
    "import keras\n",
    "import numpy as np\n",
    "import io\n",
    "import base64\n",
    "from IPython.display import HTML\n",
    "import cv2\n",
    "import json\n",
    "import skvideo.io\n",
    "import skvideo\n",
    "\n",
    "\n",
    "from keras.models import Sequential,model_from_json\n",
    "from keras.layers.core import Dense, Flatten\n",
    "from keras.optimizers import sgd\n",
    "from keras.layers import Conv2D, MaxPooling2D, Activation, AveragePooling2D,Reshape,BatchNormalization"
   ]
  },
  {
   "cell_type": "markdown",
   "metadata": {
    "colab_type": "text",
    "id": "TVIXRtimqyZ6"
   },
   "source": [
    "# MiniProject on Deep Reinforcement Learning"
   ]
  },
  {
   "cell_type": "markdown",
   "metadata": {
    "colab_type": "text",
    "id": "f-Y5OZ0gqyZ7"
   },
   "source": [
    "__Notations__: $E_p$ is the expectation under probability $p$. Please justify each of your answer and widely comment your code."
   ]
  },
  {
   "cell_type": "markdown",
   "metadata": {
    "colab_type": "text",
    "id": "jRJ9CbG8qyZ8"
   },
   "source": [
    "# Context"
   ]
  },
  {
   "cell_type": "markdown",
   "metadata": {
    "colab_type": "text",
    "id": "1YafGy1WqyZ9"
   },
   "source": [
    "In a reinforcement learning algorithm, we modelize each step $t$ as an action $a_t$ obtained from a state $s_t$, i.e. $\\{(a_{t},s_{t})_{t\\leq T}\\}$ having the Markov property. We consider a discount factor $\\gamma \\in [0,1]$ that ensures convergence. The goal is to find among all the policies $\\pi$, one that maximizes the expected reward:\n",
    "\n",
    "\\begin{equation*}\n",
    "R(\\pi)=\\sum_{t\\leq T}E_{p^{\\pi}}[\\gamma^t r(s_{t},a_{t})] \\> ,\n",
    "\\end{equation*}\n",
    "\n",
    "where: \n",
    "\\begin{equation*}p^{\\pi}(a_{0},a_{1},s_{1},...,a_{T},s_{T})=p(a_{0})\\prod_{t=1}^{T}\\pi(a_{t}|s_{t})p(s_{t+1}|s_{t},a_{t}) \\> .\n",
    "\\end{equation*}\n",
    "\n",
    "We note the $Q$-function:\n",
    "\n",
    "\\begin{equation*}Q^\\pi(s,a)=E_{p^{\\pi}}[\\sum_{t\\leq T}\\gamma^{t}r(s_{t},a_{t})|s_{0}=s,a_{0}=a] \\> .\n",
    "\\end{equation*}\n",
    "\n",
    "Thus, the optimal Q function is:\n",
    "\\begin{equation*}\n",
    "Q^*(s,a)=\\max_{\\pi}Q^\\pi(s,a) \\> .\n",
    "\\end{equation*}\n",
    "\n",
    "In this project, we will apply the deep reinforcement learning techniques to a simple game: an agent will have to learn from scratch a policy that will permit it maximizing a reward."
   ]
  },
  {
   "cell_type": "markdown",
   "metadata": {
    "colab_type": "text",
    "id": "KiikQIjuqyZ-"
   },
   "source": [
    "## The environment, the agent and the game"
   ]
  },
  {
   "cell_type": "markdown",
   "metadata": {
    "colab_type": "text",
    "id": "93pRsnLPqyZ_"
   },
   "source": [
    "### The environment"
   ]
  },
  {
   "cell_type": "markdown",
   "metadata": {
    "colab_type": "text",
    "id": "KjJj_8dIqyaA"
   },
   "source": [
    "```Environment``` is an abstract class that represents the states, rewards, and actions to obtain the new state."
   ]
  },
  {
   "cell_type": "code",
   "execution_count": 0,
   "metadata": {
    "colab": {},
    "colab_type": "code",
    "id": "YCsFSbF3qyaB"
   },
   "outputs": [],
   "source": [
    "class Environment(object):\n",
    "    def __init__(self):\n",
    "        pass\n",
    "\n",
    "    def act(self, act):\n",
    "        \"\"\"\n",
    "        One can act on the environment and obtain its reaction:\n",
    "        - the new state\n",
    "        - the reward of the new state\n",
    "        - should we continue the game?\n",
    "\n",
    "        :return: state, reward, game_over\n",
    "        \"\"\"\n",
    "        pass\n",
    "\n",
    "\n",
    "    def reset(self):\n",
    "        \"\"\"\n",
    "        Reinitialize the environment to a random state and returns\n",
    "        the original state\n",
    "\n",
    "        :return: state\n",
    "        \"\"\"\n",
    "        pass\n",
    "    \n",
    "    def draw(self):\n",
    "        \"\"\"\n",
    "        Visualize in the console or graphically the current state\n",
    "        \"\"\"\n",
    "        pass"
   ]
  },
  {
   "cell_type": "markdown",
   "metadata": {
    "colab_type": "text",
    "id": "Ej6ozTxqqyaF"
   },
   "source": [
    "The method ```act``` allows to act on the environment at a given state $s_t$ (stored internally), via action $a_t$. The method will return the new state $s_{t+1}$, the reward $r(s_{t},a_{t})$ and determines if $t\\leq T$ (*game_over*).\n",
    "\n",
    "The method ```reset``` simply reinitializes the environment to a random state $s_0$.\n",
    "\n",
    "The method ```draw``` displays the current state $s_t$ (this is useful to check the behavior of the Agent).\n",
    "\n",
    "We modelize $s_t$ as a tensor, while $a_t$ is an integer."
   ]
  },
  {
   "cell_type": "markdown",
   "metadata": {
    "colab_type": "text",
    "id": "3-Y7cq-UqyaG"
   },
   "source": [
    "### The Agent"
   ]
  },
  {
   "cell_type": "markdown",
   "metadata": {
    "colab_type": "text",
    "id": "1UjvuOdHqyaH"
   },
   "source": [
    "The goal of the ```Agent``` is to interact with the ```Environment``` by proposing actions $a_t$ obtained from a given state $s_t$ to attempt to maximize its __reward__ $r(s_t,a_t)$. We propose the following abstract class:"
   ]
  },
  {
   "cell_type": "code",
   "execution_count": 0,
   "metadata": {
    "colab": {},
    "colab_type": "code",
    "id": "Sr5pN_UxqyaH"
   },
   "outputs": [],
   "source": [
    "class Agent(object):\n",
    "    def __init__(self, epsilon=0.1, n_action=4):\n",
    "        self.epsilon = epsilon\n",
    "        self.n_action = n_action\n",
    "    \n",
    "    def set_epsilon(self,e):\n",
    "        self.epsilon = e\n",
    "\n",
    "    def act(self,s,train=True):\n",
    "        \"\"\" This function should return the next action to do:\n",
    "        an integer between 0 and 4 (not included) with a random exploration of epsilon\"\"\"\n",
    "        if train:\n",
    "            if np.random.rand() <= self.epsilon:\n",
    "                a = np.random.randint(0, self.n_action, size=1)[0]\n",
    "            else:\n",
    "                a = self.learned_act(s)\n",
    "        else: # in some cases, this can improve the performance.. remove it if poor performances\n",
    "            a = self.learned_act(s)\n",
    "\n",
    "        return a\n",
    "\n",
    "    def learned_act(self,s):\n",
    "        \"\"\" Act via the policy of the agent, from a given state s\n",
    "        it proposes an action a\"\"\"\n",
    "        pass\n",
    "\n",
    "    def reinforce(self, s, n_s, a, r, game_over_):\n",
    "        \"\"\" This function is the core of the learning algorithm. \n",
    "        It takes as an input the current state s_, the next state n_s_\n",
    "        the action a_ used to move from s_ to n_s_ and the reward r_.\n",
    "        \n",
    "        Its goal is to learn a policy.\n",
    "        \"\"\"\n",
    "        pass\n",
    "\n",
    "    def save(self):\n",
    "        \"\"\" This function returns basic stats if applicable: the\n",
    "        loss and/or the model\"\"\"\n",
    "        pass\n",
    "\n",
    "    def load(self):\n",
    "        \"\"\" This function allows to restore a model\"\"\"\n",
    "        pass"
   ]
  },
  {
   "cell_type": "markdown",
   "metadata": {
    "colab_type": "text",
    "id": "RPBY7ioIqyaL"
   },
   "source": [
    "***\n",
    "__Question 1__:\n",
    "Explain the function act. Why is ```epsilon``` essential?"
   ]
  },
  {
   "cell_type": "markdown",
   "metadata": {
    "colab_type": "text",
    "id": "DLhtdWALqyaM"
   },
   "source": [
    "The function <em>act</em> selects an action via the policy of the agent with probability 1 - $\\epsilon$ and otherwise chooses a random action. The value parameter $\\epsilon$ determines how <em>greedy</em> the agent behaves. It is very important to find a good <strong><em>tradeoff</strong></em> between <em>exploration</em> and <em>greedyness</em>. A too high value of $\\epsilon$ means that the agent will most of the time choose the best option he has discovered so far, instead of finding unexplored options that might be better. On the other side, if one selects actions at random too often, the agent will partialy lose the ability to look for positive rewards."
   ]
  },
  {
   "cell_type": "markdown",
   "metadata": {
    "colab_type": "text",
    "id": "YotgJAFAqyaN"
   },
   "source": [
    "***\n",
    "### The Game"
   ]
  },
  {
   "cell_type": "markdown",
   "metadata": {
    "colab_type": "text",
    "id": "pu4GVB--qyaO"
   },
   "source": [
    "The ```Agent``` and the ```Environment``` work in an interlaced way as in the following (take some time to understand this code as it is the core of the project)\n",
    "\n",
    "```python\n",
    "\n",
    "epoch = 300\n",
    "env = Environment()\n",
    "agent = Agent()\n",
    "\n",
    "\n",
    "# Number of won games\n",
    "score = 0\n",
    "loss = 0\n",
    "\n",
    "\n",
    "for e in range(epoch):\n",
    "    # At each epoch, we restart to a fresh game and get the initial state\n",
    "    state = env.reset()\n",
    "    # This assumes that the games will end\n",
    "    game_over = False\n",
    "\n",
    "    win = 0\n",
    "    lose = 0\n",
    "    \n",
    "    while not game_over:\n",
    "        # The agent performs an action\n",
    "        action = agent.act(state)\n",
    "\n",
    "        # Apply an action to the environment, get the next state, the reward\n",
    "        # and if the games end\n",
    "        prev_state = state\n",
    "        state, reward, game_over = env.act(action)\n",
    "\n",
    "        # Update the counters\n",
    "        if reward > 0:\n",
    "            win = win + reward\n",
    "        if reward < 0:\n",
    "            lose = lose -reward\n",
    "\n",
    "        # Apply the reinforcement strategy\n",
    "        loss = agent.reinforce(prev_state, state,  action, reward, game_over)\n",
    "\n",
    "    # Save as a mp4\n",
    "    if e % 10 == 0:\n",
    "        env.draw(e)\n",
    "\n",
    "    # Update stats\n",
    "    score += win-lose\n",
    "\n",
    "    print(\"Epoch {:03d}/{:03d} | Loss {:.4f} | Win/lose count {}/{} ({})\"\n",
    "          .format(e, epoch, loss, win, lose, win-lose))\n",
    "    agent.save()\n",
    "```"
   ]
  },
  {
   "cell_type": "markdown",
   "metadata": {
    "colab_type": "text",
    "id": "iMD9laC-qyaP"
   },
   "source": [
    "# The game, *eat cheese*"
   ]
  },
  {
   "cell_type": "markdown",
   "metadata": {
    "colab_type": "text",
    "id": "To_z-2cCqyaQ"
   },
   "source": [
    "A rat runs on an island and tries to eat as much as possible. The island is subdivided into $N\\times N$ cells, in which there are cheese (+0.5) and poisonous cells (-1). The rat has a visibility of 2 cells (thus it can see $5^2$ cells). The rat is given a time $T$ to accumulate as much food as possible. It can perform 4 actions: going up, down, left, right. \n",
    "\n",
    "The goal is to code an agent to solve this task that will learn by trial and error. We propose the following environment:"
   ]
  },
  {
   "cell_type": "code",
   "execution_count": 0,
   "metadata": {
    "colab": {},
    "colab_type": "code",
    "id": "agaxJph3qyaR"
   },
   "outputs": [],
   "source": [
    "class Environment(object):\n",
    "    def __init__(self, grid_size=10, max_time=500, temperature=0.1):\n",
    "        grid_size = grid_size + 4\n",
    "        self.grid_size = grid_size\n",
    "        self.max_time = max_time\n",
    "        self.temperature = temperature\n",
    "\n",
    "        #board on which one plays\n",
    "        self.board = np.zeros((grid_size,grid_size))\n",
    "        self.position = np.zeros((grid_size,grid_size))\n",
    "\n",
    "        # coordinate of the rat\n",
    "        self.x = 0\n",
    "        self.y = 1\n",
    "\n",
    "        # self time\n",
    "        self.t = 0\n",
    "\n",
    "        self.scale=16\n",
    "\n",
    "        self.to_draw = np.zeros((max_time + 2, grid_size * self.scale, grid_size*self.scale, 3))\n",
    "\n",
    "\n",
    "    def draw(self,e):\n",
    "        skvideo.io.vwrite(str(e) + '.mp4', self.to_draw)\n",
    "\n",
    "    def get_frame(self,t):\n",
    "        b = np.zeros((self.grid_size,self.grid_size,3))+128\n",
    "        b[self.board>0,0] = 256\n",
    "        b[self.board < 0, 2] = 256\n",
    "        b[self.x,self.y,:]=256\n",
    "        b[-2:,:,:]=0\n",
    "        b[:,-2:,:]=0\n",
    "        b[:2,:,:]=0\n",
    "        b[:,:2,:]=0\n",
    "        \n",
    "        b =  cv2.resize(b, None, fx=self.scale, fy=self.scale, interpolation=cv2.INTER_NEAREST)\n",
    "\n",
    "        self.to_draw[t,:,:,:]=b\n",
    "\n",
    "\n",
    "    def act(self, action):\n",
    "        \"\"\"This function returns the new state, reward and decides if the\n",
    "        game ends.\"\"\"\n",
    "\n",
    "        self.get_frame(int(self.t))\n",
    "\n",
    "        self.position = np.zeros((self.grid_size, self.grid_size))\n",
    "\n",
    "        self.position[0:2,:]= -1\n",
    "        self.position[:,0:2] = -1\n",
    "        self.position[-2:,:] = -1\n",
    "        self.position[:,-2:] = -1\n",
    "\n",
    "        self.position[self.x, self.y] = 1\n",
    "        if action == 0:\n",
    "            if self.x == self.grid_size - 3:\n",
    "                self.x = self.x - 1\n",
    "            else:\n",
    "                self.x = self.x + 1\n",
    "        elif action == 1:\n",
    "            if self.x == 2:\n",
    "                self.x = self.x + 1\n",
    "            else:\n",
    "                self.x = self.x - 1\n",
    "        elif action == 2:\n",
    "            if self.y == self.grid_size - 3:\n",
    "                self.y = self.y - 1\n",
    "            else:\n",
    "                self.y = self.y + 1\n",
    "        elif action == 3:\n",
    "            if self.y == 2:\n",
    "                self.y = self.y + 1\n",
    "            else:\n",
    "                self.y = self.y - 1\n",
    "        else:\n",
    "            RuntimeError('Error: action not recognized')\n",
    "\n",
    "        self.t = self.t + 1\n",
    "        reward = self.board[self.x, self.y]\n",
    "        self.board[self.x, self.y] = 0\n",
    "        game_over = self.t > self.max_time\n",
    "        state = np.concatenate((self.board.reshape(self.grid_size, self.grid_size,1),\n",
    "                        self.position.reshape(self.grid_size, self.grid_size,1)),axis=2)\n",
    "        state = state[self.x-2:self.x+3,self.y-2:self.y+3,:]\n",
    "\n",
    "        return state, reward, game_over\n",
    "\n",
    "    def reset(self):\n",
    "        \"\"\"This function resets the game and returns the initial state\"\"\"\n",
    "\n",
    "        self.x = np.random.randint(3, self.grid_size-3, size=1)[0]\n",
    "        self.y = np.random.randint(3, self.grid_size-3, size=1)[0]\n",
    "\n",
    "\n",
    "        bonus = 0.5*np.random.binomial(1,self.temperature,size=self.grid_size**2)\n",
    "        bonus = bonus.reshape(self.grid_size,self.grid_size)\n",
    "\n",
    "        malus = -1.0*np.random.binomial(1,self.temperature,size=self.grid_size**2)\n",
    "        malus = malus.reshape(self.grid_size, self.grid_size)\n",
    "\n",
    "        self.to_draw = np.zeros((self.max_time+2, self.grid_size*self.scale, self.grid_size*self.scale, 3))\n",
    "\n",
    "\n",
    "        malus[bonus>0]=0\n",
    "\n",
    "        self.board = bonus + malus\n",
    "\n",
    "        self.position = np.zeros((self.grid_size, self.grid_size))\n",
    "        self.position[0:2,:]= -1\n",
    "        self.position[:,0:2] = -1\n",
    "        self.position[-2:,:] = -1\n",
    "        self.position[:,-2:] = -1\n",
    "        self.board[self.x,self.y] = 0\n",
    "        self.t = 0\n",
    "\n",
    "        state = np.concatenate((\n",
    "                               self.board.reshape(self.grid_size, self.grid_size,1),\n",
    "                        self.position.reshape(self.grid_size, self.grid_size,1)),axis=2)\n",
    "\n",
    "        state = state[self.x - 2:self.x + 3, self.y - 2:self.y + 3, :]\n",
    "        return state"
   ]
  },
  {
   "cell_type": "markdown",
   "metadata": {
    "colab_type": "text",
    "id": "YB4GQUhWqyaU"
   },
   "source": [
    "The following elements are important because they correspond to the hyper parameters for this project:"
   ]
  },
  {
   "cell_type": "code",
   "execution_count": 0,
   "metadata": {
    "colab": {},
    "colab_type": "code",
    "id": "QDqSpltOqyaW"
   },
   "outputs": [],
   "source": [
    "# parameters\n",
    "size = 13\n",
    "T=200\n",
    "temperature=0.3\n",
    "epochs_train=20 # set small when debugging\n",
    "epochs_test=20 # set small when debugging\n",
    "\n",
    "# display videos\n",
    "def display_videos(name):\n",
    "    video = io.open(name, 'r+b').read()\n",
    "    encoded = base64.b64encode(video)\n",
    "    return '''<video alt=\"test\" controls>\n",
    "                <source src=\"data:video/mp4;base64,{0}\" type=\"video/mp4\" />\n",
    "             </video>'''.format(encoded.decode('ascii'))"
   ]
  },
  {
   "cell_type": "markdown",
   "metadata": {
    "colab_type": "text",
    "id": "F1oawZoaqyaZ"
   },
   "source": [
    "__Question 2__ Explain the use of the arrays ```position``` and ```board```."
   ]
  },
  {
   "cell_type": "markdown",
   "metadata": {
    "colab_type": "text",
    "id": "KIIZQzSNqyaa"
   },
   "source": [
    "The array <em> self.board </em> contains the rewards of each cells in the island as well as 0 values outside the island's initial range to handle the rat visibiliy of 2 cells. At coordinate [ i , j ], the value corresponds to +0.5 if there is a cheese on cell [ i , j ] of the island, -1 if there is poison, 0 if the cell is empty and 0 as well on cells outside the island.  Once the rat has been to a position [ i , j ] the value at coordinate [ i , j ] of <em> self.board </em> is set to zero so that the rat can only enjoy the reward of each cell once.\n",
    "\n",
    "The array <em> self.position </em> keeps track of the position of the rat. It has also been extended to handle the vision range of the rat. At coordinate [ i , j ] , the value corresponds to 1 if the rat is at position [ i , j ], -1 for coordinates outside the island's range and 0 otherwise.\n",
    "\n",
    "\n"
   ]
  },
  {
   "cell_type": "markdown",
   "metadata": {
    "colab_type": "text",
    "id": "mKCSDAaMqyab"
   },
   "source": [
    "## Random Agent"
   ]
  },
  {
   "cell_type": "markdown",
   "metadata": {
    "colab_type": "text",
    "id": "DdIkYvH7qyab"
   },
   "source": [
    "***\n",
    "__Question 3__ Implement a random Agent (only ```learned_act``` needs to be implemented):"
   ]
  },
  {
   "cell_type": "code",
   "execution_count": 0,
   "metadata": {
    "colab": {},
    "colab_type": "code",
    "id": "7XTkiDcDqyac"
   },
   "outputs": [],
   "source": [
    "class RandomAgent(Agent):\n",
    "    def __init__(self):\n",
    "        super(RandomAgent, self).__init__()\n",
    "        pass\n",
    "\n",
    "    def learned_act(self, s):\n",
    "        a = np.random.randint(self.n_action)      "
   ]
  },
  {
   "cell_type": "markdown",
   "metadata": {
    "colab_type": "text",
    "id": "lMmtjm4Eqyaf"
   },
   "source": [
    "***\n",
    "***\n",
    "__Question 4__ Visualize the game moves. You need to fill in the following function for the evaluation:"
   ]
  },
  {
   "cell_type": "code",
   "execution_count": 0,
   "metadata": {
    "colab": {},
    "colab_type": "code",
    "id": "1XEre2z0qyag"
   },
   "outputs": [],
   "source": [
    "def test(agent,env,epochs,prefix=''):\n",
    "    # Number of won games\n",
    "    score = 0\n",
    "        \n",
    "    for e in range(epochs):\n",
    "        # At each epoch, we restart to a fresh game and get the initial state\n",
    "        state = env.reset()\n",
    "        # This assumes that the games will end\n",
    "        game_over = False\n",
    "\n",
    "        win = 0\n",
    "        lose = 0\n",
    "\n",
    "        while not game_over:\n",
    "            # The agent performs an action\n",
    "            action = agent.act(state)\n",
    "\n",
    "            # Get the reaction of the environment to the action\n",
    "            prev_state = state\n",
    "            state, reward, game_over = env.act(action)\n",
    "            \n",
    "            # Update gains and losses\n",
    "            if reward > 0:\n",
    "                win = win + reward\n",
    "            if reward < 0:\n",
    "                lose = lose - reward\n",
    "\n",
    "        \n",
    "        # Save as a mp4\n",
    "        env.draw(prefix+str(e))\n",
    "\n",
    "        # Update stats\n",
    "        score = score + win-lose\n",
    "\n",
    "        print(\"Win/lose count {}/{}. Average score ({:.1f})\"\n",
    "              .format(win, lose, score/(1+e)))\n",
    "    print('Final score: '+str(score/epochs))"
   ]
  },
  {
   "cell_type": "code",
   "execution_count": 60,
   "metadata": {
    "colab": {
     "base_uri": "https://localhost:8080/",
     "height": 480
    },
    "colab_type": "code",
    "id": "IRnvq0Wrqyak",
    "outputId": "e807fb0e-9017-4f85-b529-c129414e048f"
   },
   "outputs": [
    {
     "name": "stdout",
     "output_type": "stream",
     "text": [
      "Win/lose count 0/7.0. Average score (-7.0)\n",
      "Win/lose count 2.5/2.0. Average score (-3.25)\n",
      "Win/lose count 3.0/1.0. Average score (-1.5)\n",
      "Win/lose count 3.0/4.0. Average score (-1.375)\n",
      "Win/lose count 1.5/2.0. Average score (-1.2)\n",
      "Win/lose count 3.0/3.0. Average score (-1.0)\n",
      "Win/lose count 0.5/3.0. Average score (-1.2142857142857142)\n",
      "Win/lose count 1.0/3.0. Average score (-1.3125)\n",
      "Win/lose count 2.5/1.0. Average score (-1.0)\n",
      "Win/lose count 2.5/4.0. Average score (-1.05)\n",
      "Final score: -1.05\n"
     ]
    },
    {
     "data": {
      "text/html": [
       "<video alt=\"test\" controls>\n",
       "                <source src=\"data:video/mp4;base64,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\" type=\"video/mp4\" />\n",
       "             </video>"
      ],
      "text/plain": [
       "<IPython.core.display.HTML object>"
      ]
     },
     "execution_count": 60,
     "metadata": {
      "tags": []
     },
     "output_type": "execute_result"
    }
   ],
   "source": [
    "# Initialize the game\n",
    "env = Environment(grid_size=size, max_time=T,temperature=temperature)\n",
    "\n",
    "# Initialize the agent!\n",
    "agent = RandomAgent()\n",
    "\n",
    "test(agent,env,epochs_test,prefix='random')\n",
    "HTML(display_videos('random0.mp4'))"
   ]
  },
  {
   "cell_type": "markdown",
   "metadata": {
    "colab_type": "text",
    "id": "6R2Emn3Tqyan"
   },
   "source": [
    "***\n",
    "## DQN"
   ]
  },
  {
   "cell_type": "markdown",
   "metadata": {
    "colab_type": "text",
    "id": "dfFOgdSfqyao"
   },
   "source": [
    "Let us assume here that $T=\\infty$.\n",
    "\n",
    "***\n",
    "__Question 5__ Let $\\pi$ be a policy, show that:\n",
    "\n",
    "\\begin{equation*}\n",
    "Q^{\\pi}(s,a)=E_{(s',a')\\sim p(.|s,a)}[r(s,a)+\\gamma Q^{\\pi}(s',a')]\n",
    "\\end{equation*}\n",
    "\n",
    "Then, show that for the optimal policy $\\pi^*$ (we assume its existence), the following holds: \n",
    "\n",
    "\\begin{equation*}\n",
    "Q^{*}(s,a)=E_{s'\\sim \\pi^*(.|s,a)}[r(s,a)+\\gamma\\max_{a'}Q^{*}(s',a')].\n",
    "\\end{equation*}\n",
    "Finally, deduce that a plausible objective is:\n",
    "\n",
    "\\begin{equation*}\n",
    "\\mathcal{L}(\\theta)=E_{s' \\sim \\pi^*(.|s,a)}\\Vert r+\\gamma\\max\\max_{a'}Q(s',a',\\theta)-Q(s,a,\\theta)\\Vert^{2}.\n",
    "\\end{equation*}\n",
    "\n",
    "\n"
   ]
  },
  {
   "cell_type": "markdown",
   "metadata": {
    "colab_type": "text",
    "id": "OUyWjNetqyap"
   },
   "source": [
    "(1) Let \\(\\pi\\) be a policy, the state-value function satisfies the\n",
    "bellman equation:\n",
    "\\[Q^{\\pi}(s,a) = E_{p^{\\pi}}[\\sum_{t=0}^{\\infty} \\gamma^{t} r(s_{t},a_{t}) \\: | \\: s_{0} = s, a_{0} = a]\\\\\n",
    " = E_{p^{\\pi}}[ r(s,a) + \\sum_{t=1}^{\\infty} \\gamma^{t} r(s_{t}, a_{t}) \\: | \\: s_{0} = s, a_{0} = a]\\\\\n",
    "  = r(s,a) + \\gamma E_{p^{\\pi}}[\\sum_{t=0}^{\\infty} \\gamma^{t} r(s_{t+1},a_{t+1}) \\: | \\: s_{0} = s, a_{0} = a]\\\\ = r(s,a) + \\gamma \\sum_{s' \\in S} p(s' | s,a) E_{p^{\\pi}}[ \\sum_{t=0}^{\\infty} \\gamma^{t} r(s_{t},a_{t}) | s_{0} = s', a_{0}=a']\\\\\n",
    "= r(s,a) + \\gamma \\sum_{s' \\in S} p(s' | s,a) Q^{\\pi}(s',a') = E_{(s',a')\\sim p^{\\pi}(.|s,a)}[r(s,a)+\\gamma Q^{\\pi}(s',a')]\\]\n",
    "\n",
    "(2) Now let \\(\\pi^{*}\\) be the optimal policy, using the result above,\n",
    "we obtain:\n",
    "\\[Q^{*}(s,a) = E_{(s',a')\\sim p^{\\pi^{*}}(.|s,a)}[r(s,a)+\\gamma Q^{\\pi^{*}}(s',a')]\\\\\n",
    "=  E_{s'\\sim \\pi^{*}(.|s,a)}[r(s,a)+\\gamma  Q^{\\pi^{*}}(s',\\pi^{*}(s'))]\\\\\n",
    "= E_{s'\\sim \\pi^{*}(.|s,a)}[r(s,a)+\\gamma \\max_{a'}Q^{\\pi^{*}}(s',a')]\\\\\n",
    "= E_{s'\\sim \\pi^{*}(.|s,a)}[r(s,a)+\\gamma \\max_{a'}Q^{*}(s',a')]\\\\\\]\n",
    "\n",
    "(3) From the last part, the optimal policy \\(\\pi^{*}\\) satisfies:\n",
    "\\[E_{s'\\sim \\pi^{*}(.|s,a)}[r(s,a)+\\gamma \\max_{a'}Q^{*}(s',a')-Q^{*}(s,a)] = 0\\\\\\]\n",
    "Hence, a natural idea is to take the norm of this quantitiy as the loss\n",
    "\n",
    "\n",
    "\n"
   ]
  },
  {
   "cell_type": "markdown",
   "metadata": {
    "colab_type": "text",
    "id": "YnaJYCDWqyaq"
   },
   "source": [
    "***\n",
    "The DQN-learning algorithm relies on these derivations to train the parameters $\\theta$ of a Deep Neural Network:\n",
    "\n",
    "1. At the state $s_t$, select the action $a_t$ with best reward using $Q_t$ and store the results;\n",
    "\n",
    "2. Obtain the new state $s_{t+1}$ from the environment $p$;\n",
    "\n",
    "3. Store $(s_t,a_t,s_{t+1})$;\n",
    "\n",
    "4. Obtain $Q_{t+1}$ by minimizing  $\\mathcal{L}$ from a recovered batch from the previously stored results.\n",
    "\n",
    "***\n",
    "__Question 6__ Implement the class ```Memory``` that stores moves (in a replay buffer) via ```remember``` and provides a ```random_access``` to these. Specify a maximum memory size to avoid side effects. You can for example use a ```list()``` and set by default ```max_memory=100```."
   ]
  },
  {
   "cell_type": "code",
   "execution_count": 0,
   "metadata": {
    "colab": {},
    "colab_type": "code",
    "id": "fkPZqzi5qyaq"
   },
   "outputs": [],
   "source": [
    "class Memory(object):\n",
    "    def __init__(self, max_memory=100):\n",
    "        self.max_memory = max_memory\n",
    "        self.memory = list()\n",
    "\n",
    "    def remember(self, m):\n",
    "        self.memory.append(m) # add new element\n",
    "        if len(self.memory) > self.max_memory:\n",
    "            del self.memory[0]  # delete oldest element in the memory if memory full\n",
    "         \n",
    "\n",
    "    def random_access(self):\n",
    "        return self.memory[np.random.randint(len(self.memory))]"
   ]
  },
  {
   "cell_type": "markdown",
   "metadata": {
    "colab_type": "text",
    "id": "vdqCXI7qqyat"
   },
   "source": [
    "***\n",
    "The pipeline we will use for training is given below:"
   ]
  },
  {
   "cell_type": "code",
   "execution_count": 0,
   "metadata": {
    "colab": {},
    "colab_type": "code",
    "id": "dUGJG5L5qyau"
   },
   "outputs": [],
   "source": [
    "def train(agent,env,epoch,prefix=''):\n",
    "    # Number of won games\n",
    "    score = 0\n",
    "    loss = 0\n",
    "\n",
    "    for e in range(epoch):\n",
    "        # At each epoch, we restart to a fresh game and get the initial state\n",
    "        state = env.reset()\n",
    "        # This assumes that the games will terminate\n",
    "        game_over = False\n",
    "\n",
    "        win = 0\n",
    "        lose = 0\n",
    "\n",
    "        while not game_over:\n",
    "            # The agent performs an action\n",
    "            action = agent.act(state)\n",
    "\n",
    "            # Apply an action to the environment, get the next state, the reward\n",
    "            # and if the games end\n",
    "            prev_state = state\n",
    "            state, reward, game_over = env.act(action)\n",
    "\n",
    "            # Update the counters\n",
    "            if reward > 0:\n",
    "                win = win + reward\n",
    "            if reward < 0:\n",
    "                lose = lose -reward\n",
    "\n",
    "            # Apply the reinforcement strategy\n",
    "            loss = agent.reinforce(prev_state, state,  action, reward, game_over)\n",
    "\n",
    "        # Save as a mp4\n",
    "        if e % 10 == 0:\n",
    "            env.draw(prefix+str(e))\n",
    "\n",
    "        # Update stats\n",
    "        score += win-lose\n",
    "\n",
    "        print(\"Epoch {:03d}/{:03d} | Loss {:.4f} | Win/lose count {}/{} ({})\"\n",
    "              .format(e, epoch, loss, win, lose, win-lose))\n",
    "        agent.save(name_weights=prefix+'model.h5',name_model=prefix+'model.json')"
   ]
  },
  {
   "cell_type": "markdown",
   "metadata": {
    "colab_type": "text",
    "id": "9uD7YL6Bqyax"
   },
   "source": [
    "***\n",
    "__Question 7__ Implement the DQN training algorithm using a cascade of fully connected layers. You can use different learning rate, batch size or memory size parameters. In particular, the loss might oscillate while the player will start to win the games. You have to find a good criterium."
   ]
  },
  {
   "cell_type": "code",
   "execution_count": 0,
   "metadata": {
    "colab": {},
    "colab_type": "code",
    "id": "2NGVKDcKqyay"
   },
   "outputs": [],
   "source": [
    "class DQN(Agent):\n",
    "    def __init__(self, grid_size,  epsilon = 0.1, memory_size=100, batch_size = 16,n_state=2):\n",
    "        super(DQN, self).__init__(epsilon = epsilon)\n",
    "\n",
    "        # Discount for Q learning\n",
    "        self.discount = 0.99\n",
    "        \n",
    "        self.grid_size = grid_size\n",
    "        \n",
    "        # number of state\n",
    "        self.n_state = n_state\n",
    "\n",
    "        # Memory\n",
    "        self.memory = Memory(memory_size)\n",
    "        \n",
    "        # Batch size when learning\n",
    "        self.batch_size = batch_size\n",
    "\n",
    "    def learned_act(self, s):\n",
    "        return np.argmax(self.model.predict(s[None]))\n",
    "\n",
    "        \n",
    "    def reinforce(self, s_, n_s_, a_, r_, game_over_):\n",
    "        # Two steps: first memorize the states, second learn from the pool\n",
    "\n",
    "        # Memorize the states\n",
    "        self.memory.remember([s_, n_s_, a_, r_, game_over_])\n",
    "        \n",
    "        input_states = np.zeros((self.batch_size, 5,5,self.n_state))\n",
    "        nx_states = np.zeros((self.batch_size, 5,5,self.n_state))\n",
    "        target_q = np.zeros((self.batch_size, 4))\n",
    "        \n",
    "        # Build the batch used for training\n",
    "        for i in range(self.batch_size):\n",
    "            # We Choose randomly from the memory\n",
    "            s_, n_s_, a_, r_, game_over = self.memory.random_access()\n",
    "\n",
    "            # We fill the target_q using our predictions\n",
    "            input_states[i,:,:,:] = s_\n",
    "            nx_states[i,:,:,:] = n_s_\n",
    "            state = s_.reshape(1, 5, 5, self.n_state)\n",
    "            target_q[i,:] = self.model.predict(state)\n",
    "\n",
    "\n",
    "            if not game_over_:\n",
    "                nx_state = n_s_.reshape(1,5, 5, self.n_state)\n",
    "                predictions = self.model.predict(nx_state)\n",
    "                target_q[i, a_] = r_ + self.discount * max(predictions[0,:])\n",
    "            else:\n",
    "                target_q[i,a_] = r_\n",
    "\n",
    "\n",
    "        # HINT: Clip the target to avoid exploiding gradients.. -- clipping is a bit tighter\n",
    "        target_q = np.clip(target_q, -3, 3)\n",
    "        l = self.model.train_on_batch(input_states, target_q)\n",
    "\n",
    "        return l\n",
    "\n",
    "    def save(self,name_weights='model.h5',name_model='model.json'):\n",
    "        self.model.save_weights(name_weights, overwrite=True)\n",
    "        with open(name_model, \"w\") as outfile:\n",
    "            json.dump(self.model.to_json(), outfile)\n",
    "            \n",
    "    def load(self,name_weights='model.h5',name_model='model.json'):\n",
    "        with open(name_model, \"r\") as jfile:\n",
    "            model = model_from_json(json.load(jfile))\n",
    "        model.load_weights(name_weights)\n",
    "        model.compile(\"sgd\", \"mse\")\n",
    "        self.model = model\n",
    "\n",
    "            \n",
    "class DQN_FC(DQN):\n",
    "    def __init__(self, *args, lr=0.1,**kwargs):\n",
    "        super(DQN_FC, self).__init__( *args,**kwargs)\n",
    "        \n",
    "        # NN Model\n",
    "        input_shape = (5, 5, self.n_state)\n",
    "        \n",
    "        model = Sequential()\n",
    "        model.add(Flatten(input_shape= input_shape))\n",
    "        model.add((Dense(32, activation='relu')))\n",
    "        model.add((Dense(16, activation='relu')))\n",
    "        model.add(Dense(self.n_action, activation=None))\n",
    "\n",
    "      \n",
    "        \n",
    "        model.compile(sgd(lr=lr, decay=1e-4, momentum=0.0), \"mse\")\n",
    "        self.model = model\n",
    "        "
   ]
  },
  {
   "cell_type": "code",
   "execution_count": 80,
   "metadata": {
    "colab": {
     "base_uri": "https://localhost:8080/",
     "height": 633
    },
    "colab_type": "code",
    "id": "VAzkrwcH8hoD",
    "outputId": "231289be-5103-45d6-8a52-1b719fa0eb39"
   },
   "outputs": [
    {
     "name": "stdout",
     "output_type": "stream",
     "text": [
      "Epoch 000/020 | Loss 0.0481 | Win/lose count 2.5/4.0 (-1.5)\n",
      "Epoch 001/020 | Loss 0.0414 | Win/lose count 7.0/9.0 (-2.0)\n",
      "Epoch 002/020 | Loss 0.0323 | Win/lose count 6.0/8.0 (-2.0)\n",
      "Epoch 003/020 | Loss 0.0623 | Win/lose count 5.0/12.0 (-7.0)\n",
      "Epoch 004/020 | Loss 0.0250 | Win/lose count 4.0/6.0 (-2.0)\n",
      "Epoch 005/020 | Loss 0.0398 | Win/lose count 6.0/9.0 (-3.0)\n",
      "Epoch 006/020 | Loss 0.0502 | Win/lose count 3.0/3.0 (0.0)\n",
      "Epoch 007/020 | Loss 0.0768 | Win/lose count 4.5/7.0 (-2.5)\n",
      "Epoch 008/020 | Loss 0.0450 | Win/lose count 4.0/3.0 (1.0)\n",
      "Epoch 009/020 | Loss 0.0557 | Win/lose count 6.5/9.0 (-2.5)\n",
      "Epoch 010/020 | Loss 0.0218 | Win/lose count 2.0/1.0 (1.0)\n",
      "Epoch 011/020 | Loss 0.0541 | Win/lose count 5.0/5.0 (0.0)\n",
      "Epoch 012/020 | Loss 0.0463 | Win/lose count 5.5/6.0 (-0.5)\n",
      "Epoch 013/020 | Loss 0.0382 | Win/lose count 7.5/9.0 (-1.5)\n",
      "Epoch 014/020 | Loss 0.0489 | Win/lose count 4.5/4.0 (0.5)\n",
      "Epoch 015/020 | Loss 0.0661 | Win/lose count 5.0/8.0 (-3.0)\n",
      "Epoch 016/020 | Loss 0.0422 | Win/lose count 7.0/5.0 (2.0)\n",
      "Epoch 017/020 | Loss 0.0327 | Win/lose count 8.0/9.0 (-1.0)\n",
      "Epoch 018/020 | Loss 0.0424 | Win/lose count 3.0/3.0 (0.0)\n",
      "Epoch 019/020 | Loss 0.0371 | Win/lose count 5.0/5.0 (0.0)\n"
     ]
    },
    {
     "data": {
      "text/html": [
       "<video alt=\"test\" controls>\n",
       "                <source src=\"data:video/mp4;base64,AAAAIGZ0eXBpc29tAAACAGlzb21pc28yYXZjMW1wNDEAAAAIZnJlZQAAFmNtZGF0AAACrQYF//+p3EXpvebZSLeWLNgg2SPu73gyNjQgLSBjb3JlIDE1MiByMjg1NCBlOWE1OTAzIC0gSC4yNjQvTVBFRy00IEFWQyBjb2RlYyAtIENvcHlsZWZ0IDIwMDMtMjAxNyAtIGh0dHA6Ly93d3cudmlkZW9sYW4ub3JnL3gyNjQuaHRtbCAtIG9wdGlvbnM6IGNhYmFjPTEgcmVmPTMgZGVibG9jaz0xOjA6MCBhbmFseXNlPTB4MToweDExMSBtZT1oZXggc3VibWU9NyBwc3k9MSBwc3lfcmQ9MS4wMDowLjAwIG1peGVkX3JlZj0xIG1lX3JhbmdlPTE2IGNocm9tYV9tZT0xIHRyZWxsaXM9MSA4eDhkY3Q9MCBjcW09MCBkZWFkem9uZT0yMSwxMSBmYXN0X3Bza2lwPTEgY2hyb21hX3FwX29mZnNldD00IHRocmVhZHM9MyBsb29rYWhlYWRfdGhyZWFkcz0xIHNsaWNlZF90aHJlYWRzPTAgbnI9MCBkZWNpbWF0ZT0xIGludGVybGFjZWQ9MCBibHVyYXlfY29tcGF0PTAgY29uc3RyYWluZWRfaW50cmE9MCBiZnJhbWVzPTMgYl9weXJhbWlkPTIgYl9hZGFwdD0xIGJfYmlhcz0wIGRpcmVjdD0xIHdlaWdodGI9MSBvcGVuX2dvcD0wIHdlaWdodHA9MiBrZXlpbnQ9MjUwIGtleWludF9taW49MjUgc2NlbmVjdXQ9NDAgaW50cmFfcmVmcmVzaD0wIHJjX2xvb2thaGVhZD00MCByYz1jcmYgbWJ0cmVlPTEgY3JmPTIzLjAgcWNvbXA9MC42MCBxcG1pbj0wIHFwbWF4PTY5IHFwc3RlcD00IGlwX3JhdGlvPTEuNDAgYXE9MToxLjAwAIAAAALWZYiEADf//vaH+BTZWBP+Wb/9DX/cj9uPrP1xYyEE31qvIejAGS+1H+b/rFFs6Z6UB/fgCJQAc24ZwpHZJ46w5MIvVHwKXAT74FNJkWfWMge3fQodhup/WWKIEKDUO6xSflaMrBBskUXDaDT+2rZZjxzDrWBJBtU4nL06x+smpeaVwGe7av9voPuJCOxFPWXitSDAVhfraXN/K0VxCGNnmVRT8sMBEBfE7mBJSY2W9EsEdQkIJ5NfgYfLgE6JOkEaoyIq+NJ1R1RqxkZz2Jmbx2qWeJmXaFeyCJYPjsE1L0JGHtMUv8qB2tyPwZL1auwIu4zsRmNa2VyRUxA31lkIWOyhFKuO7qZwKDFLaQ8MjOPe4tMKzVicptnmSY3bFrmiwQAFQuRb/82m7ImOd6ehEDNXk0n5TfNcEO8f68CSiHZuB27PeGnQHoi2n/Ci6zoTkNJwJBacf0zsm8OfsgouchDN56h4WYaRtaLI+gyuihg6zdr8pm1DSCKgDsWgD/nkKBtcan1We6jBzFZiKIeOJmIYwtDy/6cO9yqyCrqOcxlQFdmP24tjqjvr8miQ4vI6Xg+kDMJcYUi0OPy9quJdWxK7lEnMYpOpw9M8e2CqAxdeSKnTGJrACaAIf1o+9v+oCxPW8B7rb3HTseLsE08AHIXCpLrA/CcDQ/UFBXJQzUJ9aNfD/9qCqYLHOh+dgX4lWJQ6tQLLbVfFDTPWME7C7c9ZyRGYqlxO4wnrKECdtIIQ0P9hL4YerccO/pNO/IcRzrBCCT1yviy74jrfjHmR4tnMlY6t9oQxbEQM8AHySzLgS9G/wvDA/nQSEwrGiAQSgASw8dkemiJd1g5s6aWVHJSlt84J1nXgFL+JZqqREvYHi49ixeiYLCzZsnZiNS0fyukoZOr4yai2tC97G+3VXRWrBoR07/YQXTDSFiPATmELN4MocA+FdKaYBCF22YcBDWZwAApZAAAAFEGaIWxDv/6plgACuGRaIuLpGIBwAAAAGUGaRTwhkymEN//+p4QABUABqzJ37B/otEEAAAAPQZ5jalPC/wADJCOM7oZgAAAAEAGegnRCvwAEN9RInxZipPEAAAAPAZ6EakK/AAQ4NYF1/lpBAAAAEkGaiUmoQWiZTAhn//6eEAAEfQAAAAxBnqdFESwv/wAAsoEAAAAQAZ7GdEK/AAQpUjvwAfddwAAAABABnshqQr8ABClSO9nj7ruAAAAAGkGaykmoQWyZTAhv//6nhAAFR91P1HGhIg/BAAAAGEGa7EnhClJlMFFSwz/+nhAADNz7TdtYwAAAAA8BnwtqQr8AAsXKB5MFE4AAAAAXQZsNSeEOiZTAhn/+nhAAFHB+8c5vs/0AAAAYQZsuSeEPJlMCG//+p4QABUfdTj/D6tyLAAAAGEGbT0nhDyZTAhv//qeEAAUj406CtZlOZQAAABhBm3FJ4Q8mUwURPDf//qeEAAM777Pt84AAAAAPAZ+QakK/AAP5YEuV/l9AAAAAEkGbk0nhDyZTBTw3//6nhAABJwAAABABn7JqQr8AA+6wDezx92NAAAAAEkGbtUnhDyZTBTw3//6nhAABJwAAABABn9RqQr8AA+6wDezx92NBAAAAEkGb10nhDyZTBTw3//6nhAABJwAAABABn/ZqQr8AA+6wDezx92NBAAAAEkGb+UnhDyZTBTw3//6nhAABJwAAABABnhhqQr8AA+6wDezx92NAAAAAE0GaG0nhDyZTBTw7//6plgAAlYEAAAAQAZ46akK/AAPusA3s8fdjQAAAABtBmj9J4Q8mUwIb//6nhAAHwB4cWNUP99HPSJUAAAAQQZ5dRRE8L/8ABLc/ZuCQ8QAAAA8Bnnx0Qr8AA/hfi4D8/cAAAAAQAZ5+akK/AAZx2pbhs2shgAAAABpBmmBJqEFomUwId//+qZYAA+vtLwtQT+w24QAAAB5BmoJJ4QpSZTBREsO//qmWAAPV8KPg+PV50xmwuIAAAAAQAZ6hakK/AAZIjtzrQwwawQAAABJBmqZJ4Q6JlMCHf/6plgAAlYAAAAAMQZ7ERRU8L/8AALKBAAAAEAGe43RCvwAD2KG9l1X8XcEAAAAQAZ7lakK/AAPYob2K0fdmQQAAABNBmupJqEFomUwId//+qZYAAJWBAAAADEGfCEURLC//AACygAAAABABnyd0Qr8AA9ihvZdV/F3AAAAAEAGfKWpCvwAD2KG9itH3ZkEAAAATQZsuSahBbJlMCHf//qmWAACVgAAAAAxBn0xFFSwv/wAAsoAAAAAQAZ9rdEK/AAPYob2XVfxdwQAAABABn21qQr8AA9ihvYrR92ZBAAAAHEGbckmoQWyZTAh3//6plgACc/Hn8zQqBaKYiUMAAAAQQZ+QRRUsL/8AAulAitKRTAAAAA8Bn690Qr8AA+Jfi4D8/8AAAAAQAZ+xakK/AAP4rg1x4q3O4QAAABNBm7ZJqEFsmUwId//+qZYAAJWAAAAADEGf1EUVLC//AACygAAAABABn/N0Qr8AA/lisXn8DptBAAAAEAGf9WpCvwAD+Goc/zLeX0AAAAATQZv6SahBbJlMCHf//qmWAACVgQAAAAxBnhhFFSwv/wAAsoEAAAAQAZ43dEK/AAP5YrF5/A6bQAAAABABnjlqQr8AA/hqHP8y3l9BAAAAHEGaPkmoQWyZTAh3//6plgACcFHUIM0Cn0Y/UCYAAAAQQZ5cRRUsL/8AAujLFQhFMQAAABABnnt0Qr8AA/lisWxsqWIRAAAADwGefWpCvwAD42BLlf5hwAAAABxBmmJJqEFsmUwId//+qZYAAnPx5/Ls9qFkKXVRAAAAEEGegEUVLC//AALpQIKUPckAAAAPAZ6/dEK/AAPiX4uA/P/AAAAAEAGeoWpCvwAD4gvOdaGGJkEAAAAbQZqmSahBbJlMCHf//qmWAAOkmTAdx7ftL8IUAAAAEEGexEUVLC//AARXP0HKJAUAAAAPAZ7jdEK/AAPNYrGEKyHBAAAAEAGe5WpCvwAF+dqOV/biREEAAAAZQZrqSahBbJlMCHf//qmWAAOp7S/rkFZmhQAAABBBnwhFFSwv/wAEVz9ByiQEAAAADwGfJ3RCvwAF+Sanqzw9wAAAABABnylqQr8ABfiW068AUJ6BAAAAE0GbLkmoQWyZTAh3//6plgAAlYAAAAAMQZ9MRRUsL/8AALKAAAAAEAGfa3RCvwADzWKxefwOn8EAAAAQAZ9takK/AAPMahz/Mt5kQQAAABNBm3JJqEFsmUwId//+qZYAAJWBAAAADEGfkEUVLC//AACygAAAABABn690Qr8AA81isXn8Dp/AAAAAEAGfsWpCvwADzGoc/zLeZEEAAAAaQZu1SahBbJlMCHf//qmWAAGM9peFqCf2RsAAAAASQZ/TRRUsK/8AA8z8DoSWFxzAAAAADgGf9GpCvwADzBAswcNHAAAAG0Gb+UmoQWyZTAh3//6plgACYKm1pf2vrS6LIAAAABBBnhdFFSwv/wAC1z5iTBg1AAAADwGeNnRCvwADt2KxhCsjwQAAABABnjhqQr8AA8zMHkwPX4GAAAAAE0GaPUmoQWyZTAh3//6plgAAlYEAAAAMQZ5bRRUsL/8AALKAAAAAEAGeenRCvwADwqG9l1X8X8EAAAAQAZ58akK/AAPCob2K0fdpgQAAABxBmmFJqEFsmUwId//+qZYAAmPx5/Ls9qFkKXVbAAAAEEGen0UVLC//AALXQIKUPhgAAAAPAZ6+dEK/AAPMX4uA/QHBAAAADwGeoGpCvwADzA/qkUCW8wAAABlBmqVJqEFsmUwId//+qZYAAmCpw/32l96xAAAAEEGew0UVLC//AALXQIKUPhgAAAAPAZ7idEK/AAO3YrGEKyPBAAAAEAGe5GpCvwADzM8IeNDW0YEAAAASQZrpSahBbJlMCG///qeEAAEnAAAADEGfB0UVLC//AACygQAAABABnyZ0Qr8AA8KhvZdV/F/AAAAAEAGfKGpCvwADwqG9itH3aYAAAAAaQZsqSahBbJlMCHf//qmWAAOkmQk3Dgo+gHEAAAAcQZtMSeEKUmUwUVLDv/6plgADqe0v7FqE/K5HYAAAABABn2tqQr8ABiGbmuPFW39gAAAAEkGbcEnhDomUwId//qmWAACVgQAAAAxBn45FFTwv/wAAsoEAAAAQAZ+tdEK/AAPYob2XVfxdwQAAABABn69qQr8AA9ihvYrR92ZAAAAAE0GbtEmoQWiZTAh3//6plgAAlYAAAAAMQZ/SRREsL/8AALKBAAAAEAGf8XRCvwAD2KG9l1X8XcAAAAAQAZ/zakK/AAPYob2K0fdmQAAAABxBm/hJqEFsmUwId//+qZYAAnPx5/Ls9qFkKXVRAAAAEEGeFkUVLC//AALpQIKUPcgAAAAPAZ41dEK/AAPiX4uA/P/BAAAADwGeN2pCvwAD4g/qkUCW6QAAABNBmjxJqEFsmUwId//+qZYAAJWAAAAADEGeWkUVLC//AACygQAAABABnnl0Qr8AA81isXn8Dp/AAAAAEAGee2pCvwADzGoc/zLeZEEAAAATQZpgSahBbJlMCHf//qmWAACVgQAAAAxBnp5FFSwv/wAAsoAAAAAPAZ69dEK/AAJ1ZRxHZdp3AAAAEAGev2pCvwADzGoc/zLeZEEAAAAcQZqkSahBbJlMCHf//qmWAAJQUdQgzQKfRj9QZAAAABBBnsJFFSwv/wACxMsVCEaRAAAAEAGe4XRCvwADtxmRHYsxVAgAAAAPAZ7jakK/AAO3YEuV/mbBAAAAE0Ga6EmoQWyZTAh3//6plgAAlYEAAAAMQZ8GRRUsL/8AALKBAAAAEAGfJXRCvwADrKG9l1X8YkEAAAAQAZ8nakK/AAOsob2K0fdtgAAAABxBmyxJqEFsmUwId//+qZYAAlPx5/M0KgWimIlmAAAAFUGfSkUVLC//AARXHjpnFdTLz/jjZQAAABABn2l0Qr8ABfpFlXgRXomAAAAAEAGfa2pCvwAF+JbTrwBQnoAAAAATQZtwSahBbJlMCHf//qmWAACVgQAAAAxBn45FFSwv/wAAsoEAAAAQAZ+tdEK/AAPNYrF5/A6fwQAAABABn69qQr8AA8xqHP8y3mRAAAAAE0GbtEmoQWyZTAh3//6plgAAlYAAAAAMQZ/SRRUsL/8AALKBAAAAEAGf8XRCvwADzWKxefwOn8AAAAAQAZ/zakK/AAPMahz/Mt5kQAAAABNBm/hJqEFsmUwId//+qZYAAJWBAAAADEGeFkUVLC//AACygAAAABABnjV0Qr8AA81isXn8Dp/BAAAAEAGeN2pCvwADzGoc/zLeZEEAAAATQZo8SahBbJlMCHf//qmWAACVgAAAABRBnlpFFSwv/wACxJs/M24hbn+5rQAAABABnnl0Qr8AA7cZkR2LMVQIAAAAEAGee2pCvwADthEzTfSQgXEAAAATQZpgSahBbJlMCHf//qmWAACVgQAAAAxBnp5FFSwv/wAAsoAAAAAQAZ69dEK/AAPNYrF5/A6fwAAAABABnr9qQr8AA8xqHP8y3mRBAAAAHEGapEmoQWyZTAh3//6plgACUFHUIM0Cn0Y/UGQAAAAQQZ7CRRUsL/8AAsTLFQhGkQAAABABnuF0Qr8AA81isWxsqWNQAAAADwGe42pCvwADt2BLlf5mwQAAABNBmuhJqEFsmUwId//+qZYAAJWBAAAADEGfBkUVLC//AACygQAAABABnyV0Qr8AA6yhvZdV/GJBAAAAEAGfJ2pCvwADrKG9itH3bYAAAAATQZssSahBbJlMCHf//qmWAACVgAAAAAxBn0pFFSwv/wAAsoEAAAAQAZ9pdEK/AAOsob2XVfxiQAAAABABn2tqQr8AA6yhvYrR922AAAAAHEGbcEmoQWyZTAh3//6plgACU/Hn8zQqBaKYiWcAAAAVQZ+ORRUsL/8ABFceOmcV1MvP+ONlAAAAEAGfrXRCvwAF+kWVeBFeiYEAAAAQAZ+vakK/AAX4ltOvAFCegAAAABlBm7RJqEFsmUwId//+qZYAAlC/dtPRj9QZAAAAEEGf0kUVLC//AALEyxUIRpEAAAAQAZ/xdEK/AAPNYrFsbKljUAAAAA8Bn/NqQr8AA7dgS5X+ZsAAAAATQZv4SahBbJlMCHf//qmWAACVgQAAAAxBnhZFFSwv/wAAsoAAAAAQAZ41dEK/AAOsob2XVfxiQQAAABABnjdqQr8AA6yhvYrR922BAAAAE0GaPEmoQWyZTAh3//6plgAAlYAAAAAMQZ5aRRUsL/8AALKBAAAAEAGeeXRCvwADrKG9l1X8YkAAAAAQAZ57akK/AAOsob2K0fdtgQAAABJBmmBJqEFsmUwIb//+p4QAAScAAAAMQZ6eRRUsL/8AALKAAAAAEAGevXRCvwADrKG9l1X8YkAAAAAQAZ6/akK/AAOsob2K0fdtgQAAABJBmqRJqEFsmUwIb//+p4QAAScAAAAMQZ7CRRUsL/8AALKBAAAAEAGe4XRCvwADrKG9l1X8YkAAAAAQAZ7jakK/AAOsob2K0fdtgQAAABxBmuhJqEFsmUwIX//+jLAAEh+Gvzx1LkzjNf6BAAAAEEGfBkUVLC//AALEyxUIRpEAAAAQAZ8ldEK/AAO1xZnlfkp6CQAAAA8BnydqQr8AA8xqHQtHIcAAAAAaQZspS6hCEFskRggoB/IB/YeAIV/+OEAAEXAAAAxobW9vdgAAAGxtdmhkAAAAAAAAAAAAAAAAAAAD6AAAH5AAAQAAAQAAAAAAAAAAAAAAAAEAAAAAAAAAAAAAAAAAAAABAAAAAAAAAAAAAAAAAABAAAAAAAAAAAAAAAAAAAAAAAAAAAAAAAAAAAAAAAAAAgAAC5J0cmFrAAAAXHRraGQAAAADAAAAAAAAAAAAAAABAAAAAAAAH5AAAAAAAAAAAAAAAAAAAAAAAAEAAAAAAAAAAAAAAAAAAAABAAAAAAAAAAAAAAAAAABAAAAAARAAAAEQAAAAAAAkZWR0cwAAABxlbHN0AAAAAAAAAAEAAB+QAAAEAAABAAAAAAsKbWRpYQAAACBtZGhkAAAAAAAAAAAAAAAAAAAyAAABlABVxAAAAAAALWhkbHIAAAAAAAAAAHZpZGUAAAAAAAAAAAAAAABWaWRlb0hhbmRsZXIAAAAKtW1pbmYAAAAUdm1oZAAAAAEAAAAAAAAAAAAAACRkaW5mAAAAHGRyZWYAAAAAAAAAAQAAAAx1cmwgAAAAAQAACnVzdGJsAAAAlXN0c2QAAAAAAAAAAQAAAIVhdmMxAAAAAAAAAAEAAAAAAAAAAAAAAAAAAAAAARABEABIAAAASAAAAAAAAAABAAAAAAAAAAAAAAAAAAAAAAAAAAAAAAAAAAAAAAAAAAAAGP//AAAAL2F2Y0MB9AAN/+EAF2f0AA2RmygiEdCAAAADAIAAABkHihTLAQAFaOvjxEgAAAAYc3R0cwAAAAAAAAABAAAAygAAAgAAAAAUc3RzcwAAAAAAAAABAAAAAQAABkBjdHRzAAAAAAAAAMYAAAACAAAEAAAAAAEAAAoAAAAAAQAABAAAAAABAAAAAAAAAAEAAAIAAAAAAQAACgAAAAABAAAEAAAAAAEAAAAAAAAAAQAAAgAAAAABAAAEAAAAAAEAAAYAAAAAAQAAAgAAAAADAAAEAAAAAAEAAAYAAAAAAQAAAgAAAAABAAAGAAAAAAEAAAIAAAAAAQAABgAAAAABAAACAAAAAAEAAAYAAAAAAQAAAgAAAAABAAAGAAAAAAEAAAIAAAAAAQAABgAAAAABAAACAAAAAAEAAAoAAAAAAQAABAAAAAABAAAAAAAAAAEAAAIAAAAAAQAABAAAAAABAAAGAAAAAAEAAAIAAAAAAQAACgAAAAABAAAEAAAAAAEAAAAAAAAAAQAAAgAAAAABAAAKAAAAAAEAAAQAAAAAAQAAAAAAAAABAAACAAAAAAEAAAoAAAAAAQAABAAAAAABAAAAAAAAAAEAAAIAAAAAAQAACgAAAAABAAAEAAAAAAEAAAAAAAAAAQAAAgAAAAABAAAKAAAAAAEAAAQAAAAAAQAAAAAAAAABAAACAAAAAAEAAAoAAAAAAQAABAAAAAABAAAAAAAAAAEAAAIAAAAAAQAACgAAAAABAAAEAAAAAAEAAAAAAAAAAQAAAgAAAAABAAAKAAAAAAEAAAQAAAAAAQAAAAAAAAABAAACAAAAAAEAAAoAAAAAAQAABAAAAAABAAAAAAAAAAEAAAIAAAAAAQAACgAAAAABAAAEAAAAAAEAAAAAAAAAAQAAAgAAAAABAAAKAAAAAAEAAAQAAAAAAQAAAAAAAAABAAACAAAAAAEAAAoAAAAAAQAABAAAAAABAAAAAAAAAAEAAAIAAAAAAQAACAAAAAACAAACAAAAAAEAAAoAAAAAAQAABAAAAAABAAAAAAAAAAEAAAIAAAAAAQAACgAAAAABAAAEAAAAAAEAAAAAAAAAAQAAAgAAAAABAAAKAAAAAAEAAAQAAAAAAQAAAAAAAAABAAACAAAAAAEAAAoAAAAAAQAABAAAAAABAAAAAAAAAAEAAAIAAAAAAQAACgAAAAABAAAEAAAAAAEAAAAAAAAAAQAAAgAAAAABAAAEAAAAAAEAAAYAAAAAAQAAAgAAAAABAAAKAAAAAAEAAAQAAAAAAQAAAAAAAAABAAACAAAAAAEAAAoAAAAAAQAABAAAAAABAAAAAAAAAAEAAAIAAAAAAQAACgAAAAABAAAEAAAAAAEAAAAAAAAAAQAAAgAAAAABAAAKAAAAAAEAAAQAAAAAAQAAAAAAAAABAAACAAAAAAEAAAoAAAAAAQAABAAAAAABAAAAAAAAAAEAAAIAAAAAAQAACgAAAAABAAAEAAAAAAEAAAAAAAAAAQAAAgAAAAABAAAKAAAAAAEAAAQAAAAAAQAAAAAAAAABAAACAAAAAAEAAAoAAAAAAQAABAAAAAABAAAAAAAAAAEAAAIAAAAAAQAACgAAAAABAAAEAAAAAAEAAAAAAAAAAQAAAgAAAAABAAAKAAAAAAEAAAQAAAAAAQAAAAAAAAABAAACAAAAAAEAAAoAAAAAAQAABAAAAAABAAAAAAAAAAEAAAIAAAAAAQAACgAAAAABAAAEAAAAAAEAAAAAAAAAAQAAAgAAAAABAAAKAAAAAAEAAAQAAAAAAQAAAAAAAAABAAACAAAAAAEAAAoAAAAAAQAABAAAAAABAAAAAAAAAAEAAAIAAAAAAQAACgAAAAABAAAEAAAAAAEAAAAAAAAAAQAAAgAAAAABAAAKAAAAAAEAAAQAAAAAAQAAAAAAAAABAAACAAAAAAEAAAoAAAAAAQAABAAAAAABAAAAAAAAAAEAAAIAAAAAAQAACgAAAAABAAAEAAAAAAEAAAAAAAAAAQAAAgAAAAABAAAKAAAAAAEAAAQAAAAAAQAAAAAAAAABAAACAAAAAAEAAAoAAAAAAQAABAAAAAABAAAAAAAAAAEAAAIAAAAAAQAACgAAAAABAAAEAAAAAAEAAAAAAAAAAQAAAgAAAAABAAAKAAAAAAEAAAQAAAAAAQAAAAAAAAABAAACAAAAAAEAAAoAAAAAAQAABAAAAAABAAAAAAAAAAEAAAIAAAAAAQAABAAAAAAcc3RzYwAAAAAAAAABAAAAAQAAAMoAAAABAAADPHN0c3oAAAAAAAAAAAAAAMoAAAWLAAAAGAAAAB0AAAATAAAAFAAAABMAAAAWAAAAEAAAABQAAAAUAAAAHgAAABwAAAATAAAAGwAAABwAAAAcAAAAHAAAABMAAAAWAAAAFAAAABYAAAAUAAAAFgAAABQAAAAWAAAAFAAAABcAAAAUAAAAHwAAABQAAAATAAAAFAAAAB4AAAAiAAAAFAAAABYAAAAQAAAAFAAAABQAAAAXAAAAEAAAABQAAAAUAAAAFwAAABAAAAAUAAAAFAAAACAAAAAUAAAAEwAAABQAAAAXAAAAEAAAABQAAAAUAAAAFwAAABAAAAAUAAAAFAAAACAAAAAUAAAAFAAAABMAAAAgAAAAFAAAABMAAAAUAAAAHwAAABQAAAATAAAAFAAAAB0AAAAUAAAAEwAAABQAAAAXAAAAEAAAABQAAAAUAAAAFwAAABAAAAAUAAAAFAAAAB4AAAAWAAAAEgAAAB8AAAAUAAAAEwAAABQAAAAXAAAAEAAAABQAAAAUAAAAIAAAABQAAAATAAAAEwAAAB0AAAAUAAAAEwAAABQAAAAWAAAAEAAAABQAAAAUAAAAHgAAACAAAAAUAAAAFgAAABAAAAAUAAAAFAAAABcAAAAQAAAAFAAAABQAAAAgAAAAFAAAABMAAAATAAAAFwAAABAAAAAUAAAAFAAAABcAAAAQAAAAEwAAABQAAAAgAAAAFAAAABQAAAATAAAAFwAAABAAAAAUAAAAFAAAACAAAAAZAAAAFAAAABQAAAAXAAAAEAAAABQAAAAUAAAAFwAAABAAAAAUAAAAFAAAABcAAAAQAAAAFAAAABQAAAAXAAAAGAAAABQAAAAUAAAAFwAAABAAAAAUAAAAFAAAACAAAAAUAAAAFAAAABMAAAAXAAAAEAAAABQAAAAUAAAAFwAAABAAAAAUAAAAFAAAACAAAAAZAAAAFAAAABQAAAAdAAAAFAAAABQAAAATAAAAFwAAABAAAAAUAAAAFAAAABcAAAAQAAAAFAAAABQAAAAWAAAAEAAAABQAAAAUAAAAFgAAABAAAAAUAAAAFAAAACAAAAAUAAAAFAAAABMAAAAeAAAAFHN0Y28AAAAAAAAAAQAAADAAAABidWR0YQAAAFptZXRhAAAAAAAAACFoZGxyAAAAAAAAAABtZGlyYXBwbAAAAAAAAAAAAAAAAC1pbHN0AAAAJal0b28AAAAdZGF0YQAAAAEAAAAATGF2ZjU3LjgzLjEwMA==\" type=\"video/mp4\" />\n",
       "             </video>"
      ],
      "text/plain": [
       "<IPython.core.display.HTML object>"
      ]
     },
     "execution_count": 80,
     "metadata": {
      "tags": []
     },
     "output_type": "execute_result"
    }
   ],
   "source": [
    "env = Environment(grid_size=size, max_time=T, temperature=0.3)\n",
    "agent = DQN_FC(size, lr=.0002, epsilon = 0.2, memory_size=2000, batch_size = 32)\n",
    "train(agent, env, epochs_train, prefix='fc_train')\n",
    "HTML(display_videos('fc_train0.mp4'))"
   ]
  },
  {
   "cell_type": "markdown",
   "metadata": {
    "colab_type": "text",
    "id": "0ovgCJSYqya3"
   },
   "source": [
    "***\n",
    "***\n",
    "__Question 8__ Implement the DQN training algorithm using a CNN (for example, 2 convolutional layers and one final fully connected layer)."
   ]
  },
  {
   "cell_type": "code",
   "execution_count": 0,
   "metadata": {
    "colab": {},
    "colab_type": "code",
    "id": "cEauQE1Gqya4"
   },
   "outputs": [],
   "source": [
    "class DQN_CNN(DQN):\n",
    "    def __init__(self, *args,lr=0.1,**kwargs):\n",
    "        super(DQN_CNN, self).__init__(*args,**kwargs)\n",
    "\n",
    "        input_shape = (5, 5, self.n_state)\n",
    "        \n",
    "        # Model\n",
    "        model = Sequential()\n",
    "        model.add(Conv2D(32, 3, input_shape=input_shape, activation='relu', padding=\"same\"))\n",
    "        model.add(Conv2D(64, 3, activation='relu', padding=\"same\"))\n",
    "        model.add(Conv2D(32, 3, activation='relu', padding=\"same\"),)\n",
    "        model.add(Flatten())\n",
    "        model.add(Dense(self.n_action, activation=None))\n",
    "     \n",
    "        \n",
    "        \n",
    "        \n",
    "        model.compile(sgd(lr=lr, decay=1e-4, momentum=0.0), \"mse\")\n",
    "        self.model = model"
   ]
  },
  {
   "cell_type": "code",
   "execution_count": 83,
   "metadata": {
    "colab": {
     "base_uri": "https://localhost:8080/",
     "height": 633
    },
    "colab_type": "code",
    "id": "5Cb21T6Bqya6",
    "outputId": "f4acab64-febb-4171-b6e6-470c14524cf4"
   },
   "outputs": [
    {
     "name": "stdout",
     "output_type": "stream",
     "text": [
      "Epoch 000/020 | Loss 0.0024 | Win/lose count 4.0/6.0 (-2.0)\n",
      "Epoch 001/020 | Loss 0.0028 | Win/lose count 2.0/1.0 (1.0)\n",
      "Epoch 002/020 | Loss 0.0029 | Win/lose count 1.5/3.0 (-1.5)\n",
      "Epoch 003/020 | Loss 0.0125 | Win/lose count 6.5/7.0 (-0.5)\n",
      "Epoch 004/020 | Loss 0.0109 | Win/lose count 3.0/0 (3.0)\n",
      "Epoch 005/020 | Loss 0.0029 | Win/lose count 5.5/5.0 (0.5)\n",
      "Epoch 006/020 | Loss 0.0028 | Win/lose count 1.5/8.0 (-6.5)\n",
      "Epoch 007/020 | Loss 0.0206 | Win/lose count 6.0/5.0 (1.0)\n",
      "Epoch 008/020 | Loss 0.0026 | Win/lose count 2.5/5.0 (-2.5)\n",
      "Epoch 009/020 | Loss 0.0151 | Win/lose count 2.5/4.0 (-1.5)\n",
      "Epoch 010/020 | Loss 0.0198 | Win/lose count 3.0/2.0 (1.0)\n",
      "Epoch 011/020 | Loss 0.0098 | Win/lose count 5.0/5.0 (0.0)\n",
      "Epoch 012/020 | Loss 0.0016 | Win/lose count 3.5/4.0 (-0.5)\n",
      "Epoch 013/020 | Loss 0.0210 | Win/lose count 3.0/5.0 (-2.0)\n",
      "Epoch 014/020 | Loss 0.0045 | Win/lose count 2.0/3.0 (-1.0)\n",
      "Epoch 015/020 | Loss 0.0123 | Win/lose count 3.5/4.0 (-0.5)\n",
      "Epoch 016/020 | Loss 0.0112 | Win/lose count 4.5/4.0 (0.5)\n",
      "Epoch 017/020 | Loss 0.0180 | Win/lose count 6.5/2.0 (4.5)\n",
      "Epoch 018/020 | Loss 0.0029 | Win/lose count 6.0/3.0 (3.0)\n",
      "Epoch 019/020 | Loss 0.0151 | Win/lose count 1.5/4.0 (-2.5)\n"
     ]
    },
    {
     "data": {
      "text/html": [
       "<video alt=\"test\" controls>\n",
       "                <source src=\"data:video/mp4;base64,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\" type=\"video/mp4\" />\n",
       "             </video>"
      ],
      "text/plain": [
       "<IPython.core.display.HTML object>"
      ]
     },
     "execution_count": 83,
     "metadata": {
      "tags": []
     },
     "output_type": "execute_result"
    }
   ],
   "source": [
    "env = Environment(grid_size=size, max_time=T, temperature=0.3)\n",
    "agent = DQN_CNN(size, lr=0.0002, epsilon = 0.1, memory_size=2000, batch_size = 32)\n",
    "train(agent,env,epochs_train,prefix='cnn_train')\n",
    "HTML(display_videos('cnn_train0.mp4'))"
   ]
  },
  {
   "cell_type": "markdown",
   "metadata": {
    "colab_type": "text",
    "id": "jcL5auiSqya9"
   },
   "source": [
    "***\n",
    "***\n",
    "__Question 9__ Test both algorithms and compare their performances. Which issue(s) do you observe? Observe also different behaviors by changing the temperature."
   ]
  },
  {
   "cell_type": "code",
   "execution_count": 87,
   "metadata": {
    "colab": {
     "base_uri": "https://localhost:8080/",
     "height": 765
    },
    "colab_type": "code",
    "id": "fba9NUiJqya-",
    "outputId": "713eebba-a74c-4353-e3e2-831f897f3463"
   },
   "outputs": [
    {
     "name": "stdout",
     "output_type": "stream",
     "text": [
      "Test of the CNN\n",
      "Win/lose count 1.0/2.0. Average score (-1.0)\n",
      "Win/lose count 1.5/4.0. Average score (-1.75)\n",
      "Win/lose count 0.5/0. Average score (-1.0)\n",
      "Win/lose count 1.0/3.0. Average score (-1.25)\n",
      "Win/lose count 0.5/4.0. Average score (-1.7)\n",
      "Win/lose count 1.0/0. Average score (-1.25)\n",
      "Win/lose count 0.5/1.0. Average score (-1.1428571428571428)\n",
      "Win/lose count 0/0. Average score (-1.0)\n",
      "Win/lose count 1.0/3.0. Average score (-1.1111111111111112)\n",
      "Win/lose count 0.5/4.0. Average score (-1.35)\n",
      "Win/lose count 1.5/0. Average score (-1.0909090909090908)\n",
      "Win/lose count 2.0/4.0. Average score (-1.1666666666666667)\n",
      "Win/lose count 1.0/3.0. Average score (-1.2307692307692308)\n",
      "Win/lose count 0.5/4.0. Average score (-1.3928571428571428)\n",
      "Win/lose count 1.0/3.0. Average score (-1.4333333333333333)\n",
      "Win/lose count 1.0/4.0. Average score (-1.53125)\n",
      "Win/lose count 1.0/4.0. Average score (-1.6176470588235294)\n",
      "Win/lose count 1.0/4.0. Average score (-1.6944444444444444)\n",
      "Win/lose count 1.5/2.0. Average score (-1.631578947368421)\n",
      "Win/lose count 1.5/3.0. Average score (-1.625)\n",
      "Final score: -1.625\n",
      "Test of the FC\n",
      "Win/lose count 0/4.0. Average score (-4.0)\n",
      "Win/lose count 0.5/2.0. Average score (-2.75)\n",
      "Win/lose count 0.5/1.0. Average score (-2.0)\n",
      "Win/lose count 0.5/3.0. Average score (-2.125)\n",
      "Win/lose count 2.0/4.0. Average score (-2.1)\n",
      "Win/lose count 1.0/3.0. Average score (-2.0833333333333335)\n",
      "Win/lose count 2.5/1.0. Average score (-1.5714285714285714)\n",
      "Win/lose count 0/0. Average score (-1.375)\n",
      "Win/lose count 1.5/5.0. Average score (-1.6111111111111112)\n",
      "Win/lose count 0/0. Average score (-1.45)\n",
      "Win/lose count 0/1.0. Average score (-1.4090909090909092)\n",
      "Win/lose count 0.5/0. Average score (-1.25)\n",
      "Win/lose count 2.0/2.0. Average score (-1.1538461538461537)\n",
      "Win/lose count 0/0. Average score (-1.0714285714285714)\n",
      "Win/lose count 0.5/1.0. Average score (-1.0333333333333334)\n",
      "Win/lose count 1.0/2.0. Average score (-1.03125)\n",
      "Win/lose count 2.0/1.0. Average score (-0.9117647058823529)\n",
      "Win/lose count 1.0/3.0. Average score (-0.9722222222222222)\n",
      "Win/lose count 0.5/2.0. Average score (-1.0)\n",
      "Win/lose count 1.5/3.0. Average score (-1.025)\n",
      "Final score: -1.025\n"
     ]
    }
   ],
   "source": [
    "env = Environment(grid_size=size, max_time=T,temperature=0.1)\n",
    "agent_cnn = DQN_CNN(size, lr=.1, epsilon = 0.1, memory_size=2000, batch_size = 32)\n",
    "agent_cnn.load(name_weights='cnn_trainmodel.h5',name_model='cnn_trainmodel.json')\n",
    "\n",
    "agent_fc = DQN_FC(size, lr=.1, epsilon = 0.1, memory_size=2000, batch_size = 32)\n",
    "agent_cnn.load(name_weights='fc_trainmodel.h5',name_model='fc_trainmodel.json')\n",
    "print('Test of the CNN')\n",
    "test(agent_cnn,env,epochs_test,prefix='cnn_test')\n",
    "print('Test of the FC')\n",
    "test(agent_fc,env,epochs_test,prefix='fc_test')"
   ]
  },
  {
   "cell_type": "code",
   "execution_count": 88,
   "metadata": {
    "colab": {
     "base_uri": "https://localhost:8080/",
     "height": 293
    },
    "colab_type": "code",
    "id": "TSQfbYOLqybB",
    "outputId": "f0638983-7489-4386-c27d-9ffebc671ac3"
   },
   "outputs": [
    {
     "data": {
      "text/html": [
       "<video alt=\"test\" controls>\n",
       "                <source src=\"data:video/mp4;base64,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\" type=\"video/mp4\" />\n",
       "             </video>"
      ],
      "text/plain": [
       "<IPython.core.display.HTML object>"
      ]
     },
     "execution_count": 88,
     "metadata": {
      "tags": []
     },
     "output_type": "execute_result"
    }
   ],
   "source": [
    "HTML(display_videos('cnn_test0.mp4'))"
   ]
  },
  {
   "cell_type": "code",
   "execution_count": 90,
   "metadata": {
    "colab": {
     "base_uri": "https://localhost:8080/",
     "height": 293
    },
    "colab_type": "code",
    "id": "47zYhJApqybE",
    "outputId": "f808f8bb-be8e-48e3-a2c0-f5022b910712"
   },
   "outputs": [
    {
     "data": {
      "text/html": [
       "<video alt=\"test\" controls>\n",
       "                <source src=\"data:video/mp4;base64,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\" type=\"video/mp4\" />\n",
       "             </video>"
      ],
      "text/plain": [
       "<IPython.core.display.HTML object>"
      ]
     },
     "execution_count": 90,
     "metadata": {
      "tags": []
     },
     "output_type": "execute_result"
    }
   ],
   "source": [
    "HTML(display_videos('fc_test0.mp4'))"
   ]
  },
  {
   "cell_type": "markdown",
   "metadata": {
    "colab_type": "text",
    "id": "FI5oFxJ4qybH"
   },
   "source": [
    "**Observations**:  For low values of $\\epsilon$, meaning that the random exploration is rarely chosen, we observe on both videos that the rat often  gets stuck after a while and cycle within a small set of states. This usually happens when the rat has already enjoyed the rewards in his area and is surrouned by $0$ rewards values. In this area, since the rat rarely randomly explores and no moves return higher rewards, the rat is encouraged by the algorithm to stay within his region. This explains the fact that it is more pronounced at low temperatures. Setting a high $\\epsilon$ value (around 0.7) is a possible solution to the problem but the agent then partially loses the ability of seeking positive rewards(cheese). Again, a good tradeoff needs to be found. To conclude, a higher $\\epsilon$ value is recommanded at low temperatures since the rat has a higher risk of getting stuck and the value can be reduced for higher temperatures.\n",
    "\n",
    "As expected, the temperature significantly affects the score. In general, the CNN performs better than the FC network. Setting a small value for the temperature (around 0.1) often leads to negative scores for both the CNN and the FC network, as both agents struggle finding the few positive rewards. Hence, the difference of performance is less obvious at low temperatures. On the other hand, we get better results with a higher temperature (around 0.7) and the CNN stands out more. The training suggests that the CNN quicker learns to avoid poisonous cells but has more difficulties finding positive rewards."
   ]
  },
  {
   "cell_type": "markdown",
   "metadata": {
    "colab_type": "text",
    "id": "5snPM1IlqybI"
   },
   "source": [
    "***\n",
    "\n",
    "The algorithm tends to not explore the map which can be an issue. We propose two ideas in order to encourage exploration:\n",
    "1. Incorporating a decreasing $\\epsilon$-greedy exploration. You can use the method ```set_epsilon```\n",
    "2. Append via the environment a new state that describes if a cell has been visited or not\n",
    "\n",
    "***\n",
    "__Question 10__ Design a new ```train_explore``` function and environment class ```EnvironmentExploring``` to tackle the issue of exploration.\n",
    "\n"
   ]
  },
  {
   "cell_type": "code",
   "execution_count": 0,
   "metadata": {
    "colab": {},
    "colab_type": "code",
    "id": "KdbzN_LsqybJ"
   },
   "outputs": [],
   "source": [
    "# We take the same functions and classes as above and we modified them to tackle both issues\n",
    "def train_explore(agent,env,epoch,epsilon_decay,prefix=''):\n",
    "    score = 0\n",
    "    loss = 0\n",
    "    \n",
    "    for e in range(epoch):\n",
    "        # At each epoch, we restart to a fresh game and get the initial state\n",
    "        state = env.reset()\n",
    "        # This assumes that the games will terminate\n",
    "        game_over = False\n",
    "        \n",
    "        win = 0\n",
    "        lose = 0\n",
    "        \n",
    "        while not game_over:\n",
    "            # The agent performs an action\n",
    "            action = agent.act(state)\n",
    "            \n",
    "            # Get the reaction of the environment to the action\n",
    "            prev_state = state\n",
    "            state, reward, game_over = env.act(action, train=True)\n",
    "            \n",
    "            # Update gains and losses\n",
    "            if reward > 0:\n",
    "                win = win + reward\n",
    "            if reward < 0:\n",
    "                lose = lose -reward\n",
    "                \n",
    "        \n",
    "            # Apply the reinforcement strategy\n",
    "            loss = agent.reinforce(prev_state, state,  action, reward, game_over)\n",
    "        \n",
    "        # Decrease the exploration rate after each epoch\n",
    "        agent.set_epsilon(agent.epsilon * epsilon_decay)\n",
    "        \n",
    "        # Save as a mp4\n",
    "        if e % 10 == 0:\n",
    "            env.draw(prefix+str(e))\n",
    "            \n",
    "        # Update stats\n",
    "        score += win-lose\n",
    "        \n",
    "        print(\"Epoch {:03d}/{:03d} | Loss {:.4f} | Win/lose count {:.1f}/{:.1f} ({})\"\n",
    "            .format(e, epoch, loss, win, lose, win-lose))\n",
    "        agent.save(name_weights=prefix+'model.h5',name_model=prefix+'model.json')\n",
    "    \n",
    "        \n",
    "class EnvironmentExploring(object):\n",
    "    def __init__(self, grid_size=10, max_time=500, temperature=0.1):\n",
    "        grid_size = grid_size + 4\n",
    "        self.grid_size = grid_size\n",
    "        self.max_time = max_time\n",
    "        self.temperature = temperature\n",
    "        \n",
    "        # board on which one plays\n",
    "        self.board = np.zeros((grid_size,grid_size))\n",
    "        self.position = np.zeros((grid_size,grid_size))\n",
    "        self.malus_position = np.zeros((grid_size,grid_size))\n",
    "        \n",
    "        # coordinate of the rat\n",
    "        self.x = 0\n",
    "        self.y = 1\n",
    "        \n",
    "        # self time\n",
    "        self.t = 0\n",
    "        \n",
    "        self.scale=16\n",
    "        \n",
    "        self.to_draw = np.zeros((max_time + 2, grid_size * self.scale, grid_size*self.scale, 3))\n",
    "      \n",
    "    def draw(self,e):\n",
    "        skvideo.io.vwrite(str(e) + '.mp4', self.to_draw)\n",
    "\n",
    "    def get_frame(self,t):\n",
    "        b = np.zeros((self.grid_size,self.grid_size,3))+128\n",
    "        b[self.board>0,0] = 256\n",
    "        b[self.board < 0, 2] = 256\n",
    "        b[self.x,self.y,:]=256\n",
    "        b[-2:,:,:]=0\n",
    "        b[:,-2:,:]=0\n",
    "        b[:2,:,:]=0\n",
    "        b[:,:2,:]=0\n",
    "        \n",
    "        b =  cv2.resize(b, None, fx=self.scale, fy=self.scale, interpolation=cv2.INTER_NEAREST)\n",
    "\n",
    "        self.to_draw[t,:,:,:]=b\n",
    "\n",
    "\n",
    "    def act(self, action, train=False):\n",
    "        \"\"\"This function returns the new state, reward and decides if the\n",
    "        game ends.\"\"\"\n",
    "\n",
    "        self.get_frame(int(self.t))\n",
    "\n",
    "        self.position = np.zeros((self.grid_size, self.grid_size))\n",
    "\n",
    "        self.position[0:2,:]= -1\n",
    "        self.position[:,0:2] = -1\n",
    "        self.position[-2:,:] = -1\n",
    "        self.position[:,-2:] = -1\n",
    "\n",
    "        self.position[self.x, self.y] = 1\n",
    "        if action == 0:\n",
    "            if self.x == self.grid_size - 3:\n",
    "                self.x = self.x - 1\n",
    "            else:\n",
    "                self.x = self.x + 1\n",
    "        elif action == 1:\n",
    "            if self.x == 2:\n",
    "                self.x = self.x + 1\n",
    "            else:\n",
    "                self.x = self.x - 1\n",
    "        elif action == 2:\n",
    "            if self.y == self.grid_size - 3:\n",
    "                self.y = self.y - 1\n",
    "            else:\n",
    "                self.y = self.y + 1\n",
    "        elif action == 3:\n",
    "            if self.y == 2:\n",
    "                self.y = self.y + 1\n",
    "            else:\n",
    "                self.y = self.y - 1\n",
    "        else:\n",
    "            RuntimeError('Error: action not recognized')\n",
    "\n",
    "        \n",
    "        reward = 0\n",
    "\n",
    "        # Exploration malus\n",
    "        # Decrease the rewards of already visited positions\n",
    "        if train:\n",
    "            reward = -self.malus_position[self.x, self.y]\n",
    "        \n",
    "\n",
    "        self.malus_position[self.x, self.y] = 0.1 \n",
    "        \n",
    "        # Reward\n",
    "        reward = reward + self.board[self.x, self.y]\n",
    "\n",
    "        self.t = self.t + 1\n",
    "        self.board[self.x, self.y] = 0\n",
    "        game_over = self.t > self.max_time\n",
    "        state = np.concatenate((self.malus_position.reshape(self.grid_size, self.grid_size,1),\n",
    "                                self.board.reshape(self.grid_size, self.grid_size,1),\n",
    "                        self.position.reshape(self.grid_size, self.grid_size,1)),axis=2)\n",
    "        state = state[self.x-2:self.x+3,self.y-2:self.y+3,:]\n",
    "\n",
    "        return state, reward, game_over\n",
    "\n",
    "    def reset(self):\n",
    "        \"\"\"This function resets the game and returns the initial state\"\"\"\n",
    "\n",
    "        self.x = np.random.randint(3, self.grid_size-3, size=1)[0]\n",
    "        self.y = np.random.randint(3, self.grid_size-3, size=1)[0]\n",
    "\n",
    "\n",
    "        bonus = 0.5*np.random.binomial(1,self.temperature,size=self.grid_size**2)\n",
    "        bonus = bonus.reshape(self.grid_size,self.grid_size)\n",
    "\n",
    "        malus = -1.0*np.random.binomial(1,self.temperature,size=self.grid_size**2)\n",
    "        malus = malus.reshape(self.grid_size, self.grid_size)\n",
    "\n",
    "        self.to_draw = np.zeros((self.max_time+2, self.grid_size*self.scale, self.grid_size*self.scale, 3))\n",
    "\n",
    "\n",
    "        malus[bonus>0]=0\n",
    "\n",
    "        self.board = bonus + malus\n",
    "\n",
    "        self.position = np.zeros((self.grid_size, self.grid_size))\n",
    "        self.position[0:2,:]= -1\n",
    "        self.position[:,0:2] = -1\n",
    "        self.position[-2:,:] = -1\n",
    "        self.position[:,-2:] = -1\n",
    "        self.board[self.x,self.y] = 0\n",
    "        self.t = 0\n",
    "\n",
    "        # We added a feature containing wether the states were visited before\n",
    "        state = np.concatenate((self.malus_position.reshape(self.grid_size, self.grid_size,1),\n",
    "                                self.board.reshape(self.grid_size, self.grid_size,1),\n",
    "                                self.position.reshape(self.grid_size, self.grid_size,1)),axis=2)\n",
    "        \n",
    "        state = state[self.x - 2:self.x + 3, self.y - 2:self.y + 3, :]\n",
    "        return state\n",
    "\n",
    "     "
   ]
  },
  {
   "cell_type": "code",
   "execution_count": 105,
   "metadata": {
    "colab": {
     "base_uri": "https://localhost:8080/",
     "height": 633
    },
    "colab_type": "code",
    "id": "cwbyv423qybL",
    "outputId": "126186e0-8c64-48ff-9fd8-ea5bea44d7a4"
   },
   "outputs": [
    {
     "name": "stdout",
     "output_type": "stream",
     "text": [
      "Epoch 000/020 | Loss 0.0231 | Win/lose count 7.5/24.40000000000003 (-16.90000000000003)\n",
      "Epoch 001/020 | Loss 0.1411 | Win/lose count 8.4/22.900000000000052 (-14.500000000000052)\n",
      "Epoch 002/020 | Loss 0.2122 | Win/lose count 5.6000000000000005/23.600000000000062 (-18.00000000000006)\n",
      "Epoch 003/020 | Loss 0.0588 | Win/lose count 13.4/23.60000000000001 (-10.200000000000008)\n",
      "Epoch 004/020 | Loss 0.0125 | Win/lose count 5.500000000000001/22.500000000000053 (-17.000000000000053)\n",
      "Epoch 005/020 | Loss 0.0085 | Win/lose count 8.600000000000003/26.000000000000057 (-17.400000000000055)\n",
      "Epoch 006/020 | Loss 0.6983 | Win/lose count 9.100000000000001/25.600000000000062 (-16.50000000000006)\n",
      "Epoch 007/020 | Loss 1.5251 | Win/lose count 7.300000000000002/22.000000000000043 (-14.700000000000042)\n",
      "Epoch 008/020 | Loss 0.0426 | Win/lose count 11.200000000000005/24.300000000000036 (-13.100000000000032)\n",
      "Epoch 009/020 | Loss 1.3569 | Win/lose count 15.600000000000009/20.100000000000023 (-4.500000000000014)\n",
      "Epoch 010/020 | Loss 1.4675 | Win/lose count 7.600000000000002/28.20000000000009 (-20.60000000000009)\n",
      "Epoch 011/020 | Loss 1.5505 | Win/lose count 15.30000000000001/27.30000000000006 (-12.000000000000052)\n",
      "Epoch 012/020 | Loss 1.5678 | Win/lose count 11.600000000000005/22.20000000000006 (-10.600000000000055)\n",
      "Epoch 013/020 | Loss 1.5032 | Win/lose count 17.300000000000004/21.800000000000054 (-4.50000000000005)\n",
      "Epoch 014/020 | Loss 1.4651 | Win/lose count 15.200000000000008/20.300000000000008 (-5.1)\n",
      "Epoch 015/020 | Loss 1.5081 | Win/lose count 10.400000000000004/20.500000000000014 (-10.10000000000001)\n",
      "Epoch 016/020 | Loss 1.6380 | Win/lose count 14.400000000000007/16.499999999999964 (-2.099999999999957)\n",
      "Epoch 017/020 | Loss 1.5171 | Win/lose count 8.800000000000002/25.9000000000001 (-17.1000000000001)\n",
      "Epoch 018/020 | Loss 1.5448 | Win/lose count 15.200000000000008/17.299999999999976 (-2.0999999999999677)\n",
      "Epoch 019/020 | Loss 1.5465 | Win/lose count 17.6/18.699999999999985 (-1.0999999999999837)\n"
     ]
    },
    {
     "data": {
      "text/html": [
       "<video alt=\"test\" controls>\n",
       "                <source src=\"data:video/mp4;base64,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\" type=\"video/mp4\" />\n",
       "             </video>"
      ],
      "text/plain": [
       "<IPython.core.display.HTML object>"
      ]
     },
     "execution_count": 105,
     "metadata": {
      "tags": []
     },
     "output_type": "execute_result"
    }
   ],
   "source": [
    "# Training\n",
    "env = EnvironmentExploring(grid_size=size, max_time=T, temperature=0.3)\n",
    "agent = DQN_CNN(size, lr=0.1, epsilon = 0.5, memory_size=2000, batch_size =64,n_state=3)\n",
    "train_explore(agent, env, epochs_train, epsilon_decay=0.95, prefix='cnn_train_explore')\n",
    "HTML(display_videos('cnn_train_explore0.mp4'))"
   ]
  },
  {
   "cell_type": "code",
   "execution_count": 106,
   "metadata": {
    "colab": {
     "base_uri": "https://localhost:8080/",
     "height": 650
    },
    "colab_type": "code",
    "id": "NEzQQnLcqybR",
    "outputId": "28cdff6d-c223-4640-d830-6de4f104dbff"
   },
   "outputs": [
    {
     "name": "stdout",
     "output_type": "stream",
     "text": [
      "Win/lose count 4.5/2.0. Average score (2.5)\n",
      "Win/lose count 6.0/4.0. Average score (2.25)\n",
      "Win/lose count 6.5/4.0. Average score (2.3333333333333335)\n",
      "Win/lose count 5.5/3.0. Average score (2.375)\n",
      "Win/lose count 7.0/4.0. Average score (2.5)\n",
      "Win/lose count 4.0/3.0. Average score (2.25)\n",
      "Win/lose count 4.5/1.0. Average score (2.4285714285714284)\n",
      "Win/lose count 3.0/2.0. Average score (2.25)\n",
      "Win/lose count 6.0/3.0. Average score (2.3333333333333335)\n",
      "Win/lose count 4.5/1.0. Average score (2.45)\n",
      "Win/lose count 8.5/4.0. Average score (2.6363636363636362)\n",
      "Win/lose count 5.5/4.0. Average score (2.5416666666666665)\n",
      "Win/lose count 7.5/3.0. Average score (2.6923076923076925)\n",
      "Win/lose count 4.0/3.0. Average score (2.5714285714285716)\n",
      "Win/lose count 10.5/4.0. Average score (2.8333333333333335)\n",
      "Win/lose count 4.0/2.0. Average score (2.78125)\n",
      "Win/lose count 4.5/1.0. Average score (2.823529411764706)\n",
      "Win/lose count 5.5/1.0. Average score (2.9166666666666665)\n",
      "Win/lose count 7.5/1.0. Average score (3.1052631578947367)\n",
      "Win/lose count 1.5/2.0. Average score (2.925)\n",
      "Final score: 2.925\n"
     ]
    },
    {
     "data": {
      "text/html": [
       "<video alt=\"test\" controls>\n",
       "                <source src=\"data:video/mp4;base64,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\" type=\"video/mp4\" />\n",
       "             </video>"
      ],
      "text/plain": [
       "<IPython.core.display.HTML object>"
      ]
     },
     "execution_count": 106,
     "metadata": {
      "tags": []
     },
     "output_type": "execute_result"
    }
   ],
   "source": [
    "# Evaluation\n",
    "test(agent,env,epochs_test,prefix='cnn_test_explore')\n",
    "HTML(display_videos('cnn_test_explore10.mp4'))"
   ]
  },
  {
   "cell_type": "markdown",
   "metadata": {
    "colab_type": "text",
    "id": "iPja8zpsqybT"
   },
   "source": [
    "***\n",
    "***\n",
    "__BONUS question__ Use the expert DQN from the previous question to generate some winning games. Train a model that mimicks its behavior. Compare the performances."
   ]
  },
  {
   "cell_type": "markdown",
   "metadata": {
    "colab_type": "text",
    "id": "Wv7r_gxDqybU"
   },
   "source": []
  },
  {
   "cell_type": "markdown",
   "metadata": {
    "colab_type": "text",
    "id": "rkmA5wRWqybV"
   },
   "source": [
    "***"
   ]
  }
 ],
 "metadata": {
  "colab": {
   "collapsed_sections": [],
   "name": "Copie de DQN_project_MVA.ipynb",
   "provenance": [],
   "toc_visible": true
  },
  "kernelspec": {
   "display_name": "Python 3",
   "language": "python",
   "name": "python3"
  },
  "language_info": {
   "codemirror_mode": {
    "name": "ipython",
    "version": 3
   },
   "file_extension": ".py",
   "mimetype": "text/x-python",
   "name": "python",
   "nbconvert_exporter": "python",
   "pygments_lexer": "ipython3",
   "version": "3.7.4"
  }
 },
 "nbformat": 4,
 "nbformat_minor": 1
}
